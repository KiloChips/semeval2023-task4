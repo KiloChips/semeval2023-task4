{
 "cells": [
  {
   "cell_type": "code",
   "execution_count": 1,
   "metadata": {
    "collapsed": false,
    "execution": {
     "iopub.execute_input": "2023-01-21T12:27:36.822492Z",
     "iopub.status.busy": "2023-01-21T12:27:36.821685Z",
     "iopub.status.idle": "2023-01-21T12:27:37.173572Z",
     "shell.execute_reply": "2023-01-21T12:27:37.172422Z",
     "shell.execute_reply.started": "2023-01-21T12:27:36.822452Z"
    },
    "jupyter": {
     "outputs_hidden": false
    },
    "scrolled": true,
    "tags": []
   },
   "outputs": [
    {
     "name": "stdout",
     "output_type": "stream",
     "text": [
      "Archive:  data/data183986/valuedata.zip\r\n",
      "  inflating: data/arguments-test.tsv  \r\n",
      "  inflating: data/arguments-training.tsv  \r\n",
      "  inflating: data/arguments-validation-zhihu.tsv  \r\n",
      "  inflating: data/arguments-validation.tsv  \r\n",
      "  inflating: data/labels-training.tsv  \r\n",
      "  inflating: data/labels-validation-zhihu.tsv  \r\n",
      "  inflating: data/labels-validation.tsv  \r\n",
      "  inflating: data/level1-labels-training.tsv  \r\n",
      "  inflating: data/level1-labels-validation-zhihu.tsv  \r\n",
      "  inflating: data/level1-labels-validation.tsv  \r\n",
      "  inflating: data/README.md          \r\n",
      "  inflating: data/value-categories.json  \r\n"
     ]
    }
   ],
   "source": [
    "# 查看当前挂载的数据集目录, 该目录下的变更重启环境后会自动还原\n",
    "# View dataset directory. \n",
    "# This directory will be recovered automatically after resetting environment. \n",
    "# !ls /home/aistudio/data\n",
    "\n",
    "!unzip -o data/data183986/valuedata.zip -d data"
   ]
  },
  {
   "cell_type": "code",
   "execution_count": 2,
   "metadata": {
    "collapsed": false,
    "execution": {
     "iopub.execute_input": "2023-01-21T12:27:38.912331Z",
     "iopub.status.busy": "2023-01-21T12:27:38.911614Z",
     "iopub.status.idle": "2023-01-21T12:27:38.919138Z",
     "shell.execute_reply": "2023-01-21T12:27:38.918287Z",
     "shell.execute_reply.started": "2023-01-21T12:27:38.912287Z"
    },
    "jupyter": {
     "outputs_hidden": false
    },
    "scrolled": true,
    "tags": []
   },
   "outputs": [
    {
     "name": "stdout",
     "output_type": "stream",
     "text": [
      "/home/aistudio/data\r\n"
     ]
    }
   ],
   "source": [
    "# 查看工作区文件, 该目录下的变更将会持久保存. 请及时清理不必要的文件, 避免加载过慢.\n",
    "# View personal work directory. \n",
    "# All changes under this directory will be kept even after reset. \n",
    "# Please clean unnecessary files in time to speed up environment loading. \n",
    "%cd /home/aistudio/data/"
   ]
  },
  {
   "cell_type": "code",
   "execution_count": 3,
   "metadata": {
    "collapsed": false,
    "execution": {
     "iopub.execute_input": "2023-01-21T12:27:40.323021Z",
     "iopub.status.busy": "2023-01-21T12:27:40.321794Z",
     "iopub.status.idle": "2023-01-21T12:27:40.548213Z",
     "shell.execute_reply": "2023-01-21T12:27:40.547227Z",
     "shell.execute_reply.started": "2023-01-21T12:27:40.322976Z"
    },
    "jupyter": {
     "outputs_hidden": false
    },
    "scrolled": true,
    "tags": []
   },
   "outputs": [
    {
     "name": "stdout",
     "output_type": "stream",
     "text": [
      "arguments-test-nahjalbalagha.tsv  labels-validation.tsv\r\n",
      "arguments-test-nyt.tsv\t\t  labels-validation-zhihu.tsv\r\n",
      "arguments-test.tsv\t\t  level1-labels-training.tsv\r\n",
      "arguments-training.tsv\t\t  level1-labels-validation.tsv\r\n",
      "arguments-validation.tsv\t  level1-labels-validation-zhihu.tsv\r\n",
      "arguments-validation-zhihu.tsv\t  README.md\r\n",
      "data183986\t\t\t  value-categories.json\r\n",
      "labels-training.tsv\r\n"
     ]
    }
   ],
   "source": [
    "!ls"
   ]
  },
  {
   "cell_type": "code",
   "execution_count": 4,
   "metadata": {
    "collapsed": false,
    "execution": {
     "iopub.execute_input": "2023-01-21T12:28:04.313668Z",
     "iopub.status.busy": "2023-01-21T12:28:04.312709Z",
     "iopub.status.idle": "2023-01-21T12:28:04.912480Z",
     "shell.execute_reply": "2023-01-21T12:28:04.911405Z",
     "shell.execute_reply.started": "2023-01-21T12:28:04.313635Z"
    },
    "jupyter": {
     "outputs_hidden": false
    },
    "scrolled": true,
    "tags": []
   },
   "outputs": [],
   "source": [
    "# pandas读取数据集便于分析\n",
    "import pandas as pd\n",
    "trainArg = pd.read_csv('arguments-training.tsv', sep='\\t', header=0)\n",
    "validArg = pd.read_csv('arguments-validation.tsv', sep='\\t', header=0)\n",
    "test = pd.read_csv('arguments-test.tsv', sep='\\t', header=0)\n",
    "test2 = pd.read_csv('arguments-test-nahjalbalagha.tsv', sep='\\t', header=0)\n",
    "test3 = pd.read_csv('arguments-test-nyt.tsv', sep='\\t', header=0)\n",
    "zhihuArg = pd.read_csv('arguments-validation-zhihu.tsv', sep='\\t', header=0)\n",
    "\n",
    "\n",
    "trainLal = pd.read_csv('labels-training.tsv', sep='\\t', header=0)\n",
    "validLal = pd.read_csv('labels-validation.tsv', sep='\\t', header=0)\n",
    "zhihuLal = pd.read_csv('labels-validation-zhihu.tsv', sep='\\t', header=0)"
   ]
  },
  {
   "cell_type": "code",
   "execution_count": 5,
   "metadata": {
    "collapsed": false,
    "execution": {
     "iopub.execute_input": "2023-01-21T12:28:05.322905Z",
     "iopub.status.busy": "2023-01-21T12:28:05.321755Z",
     "iopub.status.idle": "2023-01-21T12:28:05.326916Z",
     "shell.execute_reply": "2023-01-21T12:28:05.326060Z",
     "shell.execute_reply.started": "2023-01-21T12:28:05.322865Z"
    },
    "jupyter": {
     "outputs_hidden": false
    },
    "scrolled": true,
    "tags": []
   },
   "outputs": [],
   "source": [
    "# dataframe转列表list\n",
    "def dataframetoList(X):\n",
    "    train_data = np.array(X)#np.ndarray()\n",
    "    train_x_list=train_data.tolist()#list\n",
    "    return train_x_list"
   ]
  },
  {
   "cell_type": "code",
   "execution_count": 6,
   "metadata": {
    "collapsed": false,
    "execution": {
     "iopub.execute_input": "2023-01-21T12:28:21.183286Z",
     "iopub.status.busy": "2023-01-21T12:28:21.182022Z",
     "iopub.status.idle": "2023-01-21T12:28:21.191822Z",
     "shell.execute_reply": "2023-01-21T12:28:21.190932Z",
     "shell.execute_reply.started": "2023-01-21T12:28:21.183246Z"
    },
    "jupyter": {
     "outputs_hidden": false
    },
    "scrolled": true,
    "tags": []
   },
   "outputs": [],
   "source": [
    "import numpy as np\n",
    "trainArgList = dataframetoList(trainArg)\n",
    "validArgList = dataframetoList(validArg)\n",
    "zhihuArgList = dataframetoList(zhihuArg)\n",
    "testList = dataframetoList(test)\n",
    "test2List = dataframetoList(test2)\n",
    "test3List = dataframetoList(test3)"
   ]
  },
  {
   "cell_type": "code",
   "execution_count": 7,
   "metadata": {
    "collapsed": false,
    "execution": {
     "iopub.execute_input": "2023-01-21T12:28:24.068121Z",
     "iopub.status.busy": "2023-01-21T12:28:24.066901Z",
     "iopub.status.idle": "2023-01-21T12:28:24.072979Z",
     "shell.execute_reply": "2023-01-21T12:28:24.072072Z",
     "shell.execute_reply.started": "2023-01-21T12:28:24.068080Z"
    },
    "jupyter": {
     "outputs_hidden": false
    },
    "scrolled": true,
    "tags": []
   },
   "outputs": [],
   "source": [
    "def insertSentence(dataList):\n",
    "    for x in range(0, len(dataList)):\n",
    "        sentence = \"Imagine someone is arguing \" + str(dataList[x][2]) + \" \\\"\" + str(dataList[x][1]) + \"\\\" \" + \"by saying: \\\"\" + str(dataList[x][3]) + \"\\\".\"\n",
    "        dataList[x].append(sentence)\n",
    "    return dataList"
   ]
  },
  {
   "cell_type": "code",
   "execution_count": 8,
   "metadata": {
    "collapsed": false,
    "execution": {
     "iopub.execute_input": "2023-01-21T12:28:35.068224Z",
     "iopub.status.busy": "2023-01-21T12:28:35.067037Z",
     "iopub.status.idle": "2023-01-21T12:28:35.084259Z",
     "shell.execute_reply": "2023-01-21T12:28:35.083119Z",
     "shell.execute_reply.started": "2023-01-21T12:28:35.068182Z"
    },
    "jupyter": {
     "outputs_hidden": false
    },
    "scrolled": true,
    "tags": []
   },
   "outputs": [],
   "source": [
    "trainArgs = insertSentence(trainArgList)\n",
    "validArgs = insertSentence(validArgList)\n",
    "zhihuArgs = insertSentence(zhihuArgList)\n",
    "testLists = insertSentence(testList)\n",
    "test2Lists = insertSentence(test2List)\n",
    "test3Lists = insertSentence(test3List)"
   ]
  },
  {
   "cell_type": "code",
   "execution_count": 9,
   "metadata": {
    "collapsed": false,
    "execution": {
     "iopub.execute_input": "2023-01-21T12:29:10.504511Z",
     "iopub.status.busy": "2023-01-21T12:29:10.503280Z",
     "iopub.status.idle": "2023-01-21T12:29:10.521700Z",
     "shell.execute_reply": "2023-01-21T12:29:10.520840Z",
     "shell.execute_reply.started": "2023-01-21T12:29:10.504470Z"
    },
    "jupyter": {
     "outputs_hidden": false
    },
    "scrolled": true,
    "tags": []
   },
   "outputs": [],
   "source": [
    "# list 转dataframe\n",
    "trainArgD = pd.DataFrame(trainArgs)\n",
    "trainArgD.columns = [\"Argument ID\",\"Conclusion\",\"Stance\",\"Premise\",\"sentence\"]\n",
    "\n",
    "validArgD = pd.DataFrame(validArgs)\n",
    "validArgD.columns = [\"Argument ID\",\"Conclusion\",\"Stance\",\"Premise\",\"sentence\"]\n",
    "\n",
    "zhihuArgD = pd.DataFrame(zhihuArgs)\n",
    "zhihuArgD.columns = [\"Argument ID\",\"Conclusion\",\"Stance\",\"Premise\",\"sentence\"]\n",
    "\n",
    "testD = pd.DataFrame(testLists)\n",
    "testD.columns = [\"Argument ID\",\"Conclusion\",\"Stance\",\"Premise\",\"sentence\"]\n",
    "\n",
    "test2D = pd.DataFrame(test2Lists)\n",
    "test2D.columns = [\"Argument ID\",\"Conclusion\",\"Stance\",\"Premise\",\"sentence\"]\n",
    "\n",
    "test3D = pd.DataFrame(test3Lists)\n",
    "test3D.columns = [\"Argument ID\",\"Conclusion\",\"Stance\",\"Premise\",\"sentence\"]\n",
    "\n"
   ]
  },
  {
   "cell_type": "code",
   "execution_count": 10,
   "metadata": {
    "collapsed": false,
    "execution": {
     "iopub.execute_input": "2023-01-21T12:29:18.978990Z",
     "iopub.status.busy": "2023-01-21T12:29:18.977699Z",
     "iopub.status.idle": "2023-01-21T12:29:18.993443Z",
     "shell.execute_reply": "2023-01-21T12:29:18.992359Z",
     "shell.execute_reply.started": "2023-01-21T12:29:18.978949Z"
    },
    "jupyter": {
     "outputs_hidden": false
    },
    "scrolled": true,
    "tags": []
   },
   "outputs": [],
   "source": [
    "trainArgD.drop(columns=[\"Conclusion\",\"Stance\",\"Premise\"],inplace=True)\n",
    "validArgD.drop(columns=[\"Conclusion\",\"Stance\",\"Premise\"],inplace=True)\n",
    "zhihuArgD.drop(columns=[\"Conclusion\",\"Stance\",\"Premise\"],inplace=True)\n",
    "testD.drop(columns=[\"Conclusion\",\"Stance\",\"Premise\"],inplace=True)\n",
    "test2D.drop(columns=[\"Conclusion\",\"Stance\",\"Premise\"],inplace=True)\n",
    "test3D.drop(columns=[\"Conclusion\",\"Stance\",\"Premise\"],inplace=True)"
   ]
  },
  {
   "cell_type": "code",
   "execution_count": 11,
   "metadata": {
    "execution": {
     "iopub.execute_input": "2023-01-21T12:29:22.428185Z",
     "iopub.status.busy": "2023-01-21T12:29:22.427176Z",
     "iopub.status.idle": "2023-01-21T12:29:22.432972Z",
     "shell.execute_reply": "2023-01-21T12:29:22.432153Z",
     "shell.execute_reply.started": "2023-01-21T12:29:22.428146Z"
    },
    "scrolled": true
   },
   "outputs": [],
   "source": [
    "def labelProcess(datalabel):   \n",
    "    labels = []\n",
    "    for i in range(len(datalabel)):\n",
    "        label = list(datalabel.iloc[i])[1:]\n",
    "        labels.append(label)\n",
    "    #labels[0]\n",
    "    datalabel[\"labels\"] = labels\n",
    "    deletelist = list(datalabel.columns)[1:-1]\n",
    "    datalabel.drop(columns=deletelist,inplace=True)\n",
    "    return datalabel"
   ]
  },
  {
   "cell_type": "code",
   "execution_count": 12,
   "metadata": {
    "execution": {
     "iopub.execute_input": "2023-01-21T12:29:24.512024Z",
     "iopub.status.busy": "2023-01-21T12:29:24.511049Z",
     "iopub.status.idle": "2023-01-21T12:29:25.322063Z",
     "shell.execute_reply": "2023-01-21T12:29:25.320928Z",
     "shell.execute_reply.started": "2023-01-21T12:29:24.511986Z"
    },
    "scrolled": true
   },
   "outputs": [],
   "source": [
    "trainLal = labelProcess(trainLal)    \n",
    "validLal = labelProcess(validLal)    \n",
    "zhihuLal = labelProcess(zhihuLal)"
   ]
  },
  {
   "cell_type": "code",
   "execution_count": 13,
   "metadata": {
    "collapsed": false,
    "execution": {
     "iopub.execute_input": "2023-01-21T12:29:26.262699Z",
     "iopub.status.busy": "2023-01-21T12:29:26.261951Z",
     "iopub.status.idle": "2023-01-21T12:29:26.281903Z",
     "shell.execute_reply": "2023-01-21T12:29:26.280939Z",
     "shell.execute_reply.started": "2023-01-21T12:29:26.262670Z"
    },
    "jupyter": {
     "outputs_hidden": false
    },
    "scrolled": true,
    "tags": []
   },
   "outputs": [],
   "source": [
    "train_merge = trainArgD.merge(trainLal,on='Argument ID')\n",
    "valid_merge = validArgD.merge(validLal,on='Argument ID')\n",
    "zhihu_merge = zhihuArgD.merge(zhihuLal,on='Argument ID')"
   ]
  },
  {
   "cell_type": "code",
   "execution_count": 14,
   "metadata": {
    "collapsed": false,
    "execution": {
     "iopub.execute_input": "2023-01-21T12:29:51.269305Z",
     "iopub.status.busy": "2023-01-21T12:29:51.268019Z",
     "iopub.status.idle": "2023-01-21T12:29:51.394762Z",
     "shell.execute_reply": "2023-01-21T12:29:51.393807Z",
     "shell.execute_reply.started": "2023-01-21T12:29:51.269262Z"
    },
    "jupyter": {
     "outputs_hidden": false
    },
    "scrolled": true,
    "tags": []
   },
   "outputs": [],
   "source": [
    "train_merge.to_csv('train.tsv',columns=train_merge.columns.tolist(),\n",
    "            sep='\\t',\n",
    "            index=False)\n",
    "\n",
    "valid_merge.to_csv('dev.tsv',columns=train_merge.columns.tolist(),\n",
    "            sep='\\t',\n",
    "            index=False)\n",
    "zhihu_merge.to_csv('zhihu_validation.tsv',columns=zhihu_merge.columns.tolist(),\n",
    "            sep='\\t',\n",
    "            index=False)\n",
    "testD.to_csv('test.tsv',columns=testD.columns.tolist(),\n",
    "            sep='\\t',\n",
    "            index=False)\n",
    "test2D.to_csv('test2.tsv',columns=test2D.columns.tolist(),\n",
    "            sep='\\t',\n",
    "            index=False)\n",
    "test3D.to_csv('test3.tsv',columns=test3D.columns.tolist(),\n",
    "            sep='\\t',\n",
    "            index=False)"
   ]
  },
  {
   "cell_type": "code",
   "execution_count": null,
   "metadata": {
    "scrolled": true
   },
   "outputs": [],
   "source": []
  }
 ],
 "metadata": {
  "kernelspec": {
   "display_name": "Python 3",
   "language": "python",
   "name": "py35-paddle1.2.0"
  },
  "language_info": {
   "codemirror_mode": {
    "name": "ipython",
    "version": 3
   },
   "file_extension": ".py",
   "mimetype": "text/x-python",
   "name": "python",
   "nbconvert_exporter": "python",
   "pygments_lexer": "ipython3",
   "version": "3.7.4"
  },
  "toc-showcode": true
 },
 "nbformat": 4,
 "nbformat_minor": 4
}
